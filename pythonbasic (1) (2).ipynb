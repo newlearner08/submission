{
 "cells": [
  {
   "cell_type": "raw",
   "id": "fc099110-91d2-435a-bc85-7bfdefb267d3",
   "metadata": {},
   "source": [
    "                                                     ASSIGNMENT 1 PYTHON BASICS"
   ]
  },
  {
   "cell_type": "raw",
   "id": "53d10a6c-8163-4066-9696-2d6f225bdd45",
   "metadata": {},
   "source": [
    "#1.Explain the key features of Python that make it a popular choice for programming.\n",
    "1.There are certain features that makes Python popular choice for programming that are:\n",
    "# Ease of learning- Python uses simple and readable syntax which makes it easy to understand.\n",
    "# Huge active community- Python has a large and supportive community, offering a wealth of resources and tutorials for learning.\n",
    "# A lot of libraries- Python's extensive standard library provides pre-built functions and modules that simplify common programming tasks, reducing the need to write code from scratch.\n",
    "# Versatile- Python is a versatile programming language that can be used for multiple purposes. Back-end web development, mobile app development, software development, and desktop app development, and are just a few examples.\n",
    "# Highly Portable Language- Python's primary benefit is that it is a highly portable programming language that can run on any operating system.\n",
    "\n"
   ]
  },
  {
   "cell_type": "raw",
   "id": "956093ea-131b-432a-97ef-d04dfe4523e5",
   "metadata": {},
   "source": [
    "#2.Describe the role of predefined keywords in Python and provide examples of how they are used in a\n",
    "program.\n",
    "2.Python Keywords are some predefined and reserved words in Python that have special meanings. \n",
    "Keywords are used to define the syntax of the coding.\n",
    "These cannot be  used  as variable names, function names, or identifiers because they are reserved for Python's own use.\n",
    "These keywords define the structure and rules of the programming language.\n",
    "Here are some keywords used in python:\n",
    "#if\n",
    "#else\n",
    "#while\n",
    "#for\n",
    "#break\n",
    "#continue\n",
    "These are used in a programming language as follows:\n",
    "#Using if, else\n"
   ]
  },
  {
   "cell_type": "code",
   "execution_count": 2,
   "id": "754f6be6-0d1e-47ce-b71d-09abd5236219",
   "metadata": {},
   "outputs": [
    {
     "name": "stdout",
     "output_type": "stream",
     "text": [
      "The number is positive.\n"
     ]
    }
   ],
   "source": [
    "# Check if a number is positive or negative\n",
    "number = 26\n",
    "\n",
    "if number > 0:\n",
    "    print(\"The number is positive.\")\n",
    "else:\n",
    "    print(\"The number is negative.\")\n"
   ]
  },
  {
   "cell_type": "code",
   "execution_count": 4,
   "id": "2dbf15ad-819a-4f47-b78c-22910f93205c",
   "metadata": {},
   "outputs": [
    {
     "name": "stdout",
     "output_type": "stream",
     "text": [
      "rose\n",
      "marigold\n",
      "jasmine\n"
     ]
    }
   ],
   "source": [
    "# Loop through a list of flowers and print each one\n",
    "flowers = [\"rose\", \"marigold\", \"jasmine\"]\n",
    "\n",
    "for flower in flowers:\n",
    "    print(flower)\n"
   ]
  },
  {
   "cell_type": "code",
   "execution_count": 5,
   "id": "ecc2808f-0b68-4fe8-881f-66e712adb784",
   "metadata": {},
   "outputs": [
    {
     "name": "stdout",
     "output_type": "stream",
     "text": [
      "1\n",
      "2\n",
      "3\n",
      "4\n",
      "5\n"
     ]
    }
   ],
   "source": [
    "# Print numbers from 1 to 5 using a while loop\n",
    "count = 1\n",
    "\n",
    "while count <= 5:\n",
    "    print(count)\n",
    "    count += 1\n"
   ]
  },
  {
   "cell_type": "code",
   "execution_count": 6,
   "id": "193bdc27-16af-49f1-b08d-2925edc1bc07",
   "metadata": {},
   "outputs": [
    {
     "name": "stdout",
     "output_type": "stream",
     "text": [
      "Arnika\n"
     ]
    }
   ],
   "source": [
    "# Loop through a list of names and demonstrate continue and break\n",
    "names = [\"Arnika\", \"Kirtika\", \"Reeya\", \"Simran\", \"Neha\"]\n",
    "\n",
    "for name in names:\n",
    "    if name == \"Kirtika\":\n",
    "        continue  # Skip the rest of the code for this iteration when name is \"Kirtika\"\n",
    "    \n",
    "    if name == \"Reeya\":\n",
    "        break  # Exit the loop when name is \"Reeya\"\n",
    "\n",
    "    print(name)\n"
   ]
  },
  {
   "cell_type": "raw",
   "id": "000ebf96-6c92-4537-abce-30b5bceca49d",
   "metadata": {},
   "source": [
    "#3.Compare and contrast mutable and immutable objects in Python with examples.\n",
    "3.In Python, mutable data types permit changes after initialization. Lists, sets, and dictionaries are just a few examples of changeable data structures that are frequently used. These data types support alterations including element addition, removal, and change.\n",
    "\n",
    "Let’s take a Python list as an example:\n",
    "\n",
    "numbers = [1, 2, 3, 4]\n",
    "\n",
    "The list ‘numbers’ in this case can be altered by including, deleting, or replacing entries. By directly accessing an existing element’s index, we can edit it or insert a new element .\n",
    "\n",
    "Immutable data types in Python are those that cannot be modified after creation, as the name implies. Strings, tuples, and numbers (including integers, floats, and booleans) are examples of immutable data types.\n",
    "\n",
    "Let’s think about a string:\n",
    "\n",
    "message = “Hello World!”\n",
    "\n",
    "The string ‘message’ cannot be changed directly in this situation. We can generate a new string with the needed adjustment, but we cannot change a character at a certain index.\n",
    "\n",
    "Tuples are also immutable."
   ]
  },
  {
   "cell_type": "raw",
   "id": "544cc0ab-565e-4cc8-b464-4ad79cbda64f",
   "metadata": {},
   "source": [
    "#4.Discuss the different types of operators in Python and provide examples of how they are used.\n",
    "4.In Python, operators are special symbols that perform operations on variables and values. They can be classified into several types based on the kind of operations they perform. Here are the main types of operators in Python:\n",
    "\n",
    "1. Arithmetic Operators\n",
    "These operators are used to perform basic mathematical operations like addition, subtraction, multiplication, etc.\n",
    "\n"
   ]
  },
  {
   "cell_type": "code",
   "execution_count": 8,
   "id": "b49c2063-eeea-4816-908b-ac87056fbf46",
   "metadata": {},
   "outputs": [
    {
     "name": "stdout",
     "output_type": "stream",
     "text": [
      "8\n"
     ]
    }
   ],
   "source": [
    "#\n",
    "result = 5 + 3  # result is 8\n",
    "print (result)"
   ]
  },
  {
   "cell_type": "raw",
   "id": "cb1bd534-4ef9-4c9c-a0dd-146cbab46d45",
   "metadata": {},
   "source": [
    "#2.Comparison Operators\n",
    "These operators are used to compare two values, returning either True or False.\n",
    "== (Equal): Checks if two operands are equal\n",
    "> (Greater Than): Checks if the left operand is greater than the right.\n",
    "< (Less Than): Checks if the left operand is less than the right."
   ]
  },
  {
   "cell_type": "code",
   "execution_count": 9,
   "id": "49dbc2c0-d327-48eb-9a11-f550f31e6587",
   "metadata": {},
   "outputs": [
    {
     "name": "stdout",
     "output_type": "stream",
     "text": [
      "True\n"
     ]
    }
   ],
   "source": [
    "result = (5 == 5)  # result is True\n",
    "print(result)"
   ]
  },
  {
   "cell_type": "raw",
   "id": "b824205d-9f4a-4cb1-98c1-6b4636e99104",
   "metadata": {},
   "source": [
    "#3.Assignment Operators\n",
    "These operators are used to assign values to variables.\n",
    "\n"
   ]
  },
  {
   "cell_type": "code",
   "execution_count": 10,
   "id": "0fd245e6-110c-4f18-8bca-1d422f1eb563",
   "metadata": {},
   "outputs": [],
   "source": [
    "x = 5  # x is 5\n"
   ]
  },
  {
   "cell_type": "raw",
   "id": "fa8ba4fd-803f-46cc-9042-5e3393d29ada",
   "metadata": {},
   "source": [
    "#4.Logical Operators\n",
    "These operators are used to perform logical operations on Boolean values.\n",
    "\n",
    "and: Returns True if both operands are true.\n",
    "or: Returns True if at least one operand is true.\n"
   ]
  },
  {
   "cell_type": "code",
   "execution_count": 11,
   "id": "bb9cfc03-fb64-4772-8259-d1c397dcad65",
   "metadata": {},
   "outputs": [
    {
     "name": "stdout",
     "output_type": "stream",
     "text": [
      "True\n"
     ]
    }
   ],
   "source": [
    "result = (5 > 3) and (2 < 4)  # result is True\n",
    "print(result)"
   ]
  },
  {
   "cell_type": "raw",
   "id": "d1bf58cc-316a-4fb0-b11b-6eb5edcf9b18",
   "metadata": {},
   "source": [
    "#5.Bitwise Operators\n",
    "These operators are used to perform bit-level operations on integers.\n",
    "\n",
    "& (AND): Performs a bitwise AND operation.\n",
    "| (OR): Performs a bitwise OR operation.\n",
    "^ (XOR): Performs a bitwise XOR operation"
   ]
  },
  {
   "cell_type": "code",
   "execution_count": 12,
   "id": "e23c7351-317a-4a83-8bf7-d7d053c38a6d",
   "metadata": {},
   "outputs": [
    {
     "name": "stdout",
     "output_type": "stream",
     "text": [
      "1\n"
     ]
    }
   ],
   "source": [
    "result = 5 & 3  # result is 1 (binary 0101 & 0011 = 0001)\n",
    "print(result)"
   ]
  },
  {
   "cell_type": "raw",
   "id": "fe5eadbb-4a70-4af5-ba57-a879308fba07",
   "metadata": {},
   "source": [
    "#5.Explain the concept of type casting in Python with examples.\n",
    "5.Type casting is the process of converting one data type into another. This can be necessary when you want to perform operations between different types or when you need specific data types for a function or method. There are two main types of type casting:\n",
    "\n",
    "Implicit Type Casting (Automatic)\n",
    "Explicit Type Casting (Manual)\n",
    "1. Implicit Type Casting (Automatic)\n",
    "In implicit type casting, Python automatically converts one data type to another without the need for explicit instruction. This usually happens when Python converts smaller data types (e.g., int) to larger ones (e.g., float) to avoid data loss."
   ]
  },
  {
   "cell_type": "code",
   "execution_count": 13,
   "id": "8ca4e97d-ddd2-4426-b9cf-5a9fd15e4669",
   "metadata": {},
   "outputs": [
    {
     "name": "stdout",
     "output_type": "stream",
     "text": [
      "13.5\n",
      "<class 'float'>\n"
     ]
    }
   ],
   "source": [
    "# Implicit type casting from int to float\n",
    "x = 10  # int\n",
    "y = 3.5 # float\n",
    "\n",
    "result = x + y  # int is implicitly cast to float\n",
    "\n",
    "print(result)  # Output: 13.5\n",
    "print(type(result))  # Output: <class 'float'>\n"
   ]
  },
  {
   "cell_type": "raw",
   "id": "dbbe2f22-2ea5-4cc0-a355-23587eef8e40",
   "metadata": {},
   "source": [
    "#Explicit Type Casting (Manual)\n",
    "In explicit type casting, the programmer manually converts one data type to another using Python’s built-in functions. The most common functions are:\n",
    "\n",
    "int() – Converts a value to an integer\n",
    "float() – Converts a value to a float\n",
    "str() – Converts a value to a string\n",
    "bool() – Converts a value to a boolean\n"
   ]
  },
  {
   "cell_type": "code",
   "execution_count": 15,
   "id": "9c2e82b7-33a8-4a93-a139-2bf3a06bcccf",
   "metadata": {},
   "outputs": [
    {
     "name": "stdout",
     "output_type": "stream",
     "text": [
      "Next year, you will be 23\n"
     ]
    }
   ],
   "source": [
    "# Initial data as a string\n",
    "age_str = \"22\"\n",
    "\n",
    "# Explicitly casting string to integer\n",
    "age_int = int(age_str)\n",
    "\n",
    "# Performing arithmetic with the integer\n",
    "next_year_age = age_int + 1\n",
    "\n",
    "# Printing the result\n",
    "print(\"Next year, you will be\", next_year_age)\n"
   ]
  },
  {
   "cell_type": "raw",
   "id": "0fa89da3-276c-42bc-945b-f6034615150b",
   "metadata": {},
   "source": [
    "#6.How do conditional statements work in Python? Illustrate with examples.\n",
    "6.Conditional statements allow you to control the flow of your program based on certain conditions. These conditions typically evaluate to True or False, and Python offers several conditional structures to handle this logic.\n",
    "\n",
    "The primary conditional statements in Python are:\n",
    "\n",
    "if statement\n",
    "if-else statement\n",
    "nested if"
   ]
  },
  {
   "cell_type": "code",
   "execution_count": 22,
   "id": "cd9ccdd5-f8f9-45d0-974d-a83bfddb7450",
   "metadata": {},
   "outputs": [
    {
     "name": "stdout",
     "output_type": "stream",
     "text": [
      "b is greater than a\n"
     ]
    }
   ],
   "source": [
    "#ExampleGet your own Python Server\n",
    "#If statement:\n",
    "\n",
    "a = 1\n",
    "b = 2\n",
    "if b > a:\n",
    "  print(\"b is greater than a\")\n"
   ]
  },
  {
   "cell_type": "code",
   "execution_count": 20,
   "id": "a293d3ee-7f74-44e9-a2e7-35a174494762",
   "metadata": {},
   "outputs": [
    {
     "name": "stdout",
     "output_type": "stream",
     "text": [
      "b is greater than a\n"
     ]
    }
   ],
   "source": [
    "#Elif\n",
    "#The elif keyword is Python's way of saying \"if the previous conditions were not true, then try this condition\".\n",
    "\n",
    "#Example\n",
    "a = 53\n",
    "b = 70\n",
    "if b > a:\n",
    "  print(\"b is greater than a\")\n",
    "elif a == b:\n",
    "  print(\"a and b are equal\")"
   ]
  },
  {
   "cell_type": "code",
   "execution_count": 21,
   "id": "12ee6c83-975f-4992-83d5-b5fec20c4dc6",
   "metadata": {},
   "outputs": [
    {
     "name": "stdout",
     "output_type": "stream",
     "text": [
      "a is greater than b\n"
     ]
    }
   ],
   "source": [
    "a = 100\n",
    "b = 20\n",
    "if b > a:\n",
    "  print(\"b is greater than a\")\n",
    "elif a == b:\n",
    "  print(\"a and b are equal\")\n",
    "else:\n",
    "  print(\"a is greater than b\")"
   ]
  },
  {
   "cell_type": "raw",
   "id": "c59a8332-44e8-4af8-befc-5f13b69de1e2",
   "metadata": {},
   "source": [
    "#7.Describe the different types of loops in Python and their use cases with examples.\n",
    "7.Python provides two main types of loops: for loops and while loops. Both of these loops allow you to execute a block of code multiple times, but they have different use cases depending on the situation.\n",
    "\n",
    "1. for Loop\n",
    "A for loop is used to iterate over a sequence (such as a list, tuple, dictionary, set, or string). It repeats a block of code for every item in the sequence. for loops are generally used when you know in advance how many times you want to iterate."
   ]
  },
  {
   "cell_type": "code",
   "execution_count": 5,
   "id": "0db12550-a2c7-49b8-82b7-c50f72c90ac3",
   "metadata": {},
   "outputs": [
    {
     "name": "stdout",
     "output_type": "stream",
     "text": [
      "h\n",
      "e\n",
      "l\n",
      "l\n",
      "o\n"
     ]
    }
   ],
   "source": [
    "\n",
    "for letter in \"hello\":\n",
    "    print(letter)\n"
   ]
  },
  {
   "cell_type": "markdown",
   "id": "90947019-255a-4a79-9a85-356ccf2ce43a",
   "metadata": {},
   "source": [
    "2.A while loop continues to execute a block of code as long as a specified condition remains True. This loop is useful when the number of iterations is not known in advance and depends on dynamic conditions.\n"
   ]
  },
  {
   "cell_type": "code",
   "execution_count": 3,
   "id": "7d8cd8b7-6779-4f55-8669-629dafda6837",
   "metadata": {},
   "outputs": [
    {
     "name": "stdout",
     "output_type": "stream",
     "text": [
      "0\n",
      "1\n",
      "2\n",
      "3\n",
      "4\n"
     ]
    }
   ],
   "source": [
    "count = 0\n",
    "while count < 5:\n",
    "    print(count)\n",
    "    count += 1\n"
   ]
  },
  {
   "cell_type": "raw",
   "id": "22d4bc39-a7c9-4af3-8d75-bfe549e86c5a",
   "metadata": {},
   "source": [
    "#3.The continue statement in Python is used to skip the remaining code inside the loop for the current iteration and proceed with the next iteration of the loop. It's useful when you want to avoid executing certain code based on a condition without completely exiting the loop."
   ]
  },
  {
   "cell_type": "code",
   "execution_count": 2,
   "id": "be2fd736-78fa-4461-a6df-12f9e371a729",
   "metadata": {},
   "outputs": [
    {
     "name": "stdout",
     "output_type": "stream",
     "text": [
      "1\n",
      "2\n",
      "3\n",
      "4\n",
      "6\n",
      "7\n",
      "8\n",
      "9\n",
      "10\n"
     ]
    }
   ],
   "source": [
    "for number in range(1, 11):\n",
    "    if number == 5:\n",
    "        continue  # Skip the rest of the loop when number is 5\n",
    "    print(number)\n"
   ]
  },
  {
   "cell_type": "raw",
   "id": "bacd5cc4-2230-4398-b9b6-7bddc9f351e3",
   "metadata": {},
   "source": [
    "#4.The break statement in Python is used to exit a loop prematurely. When a break statement is encountered, it terminates the innermost loop that contains it, and control flow moves to the statement immediately following the loop."
   ]
  },
  {
   "cell_type": "code",
   "execution_count": 1,
   "id": "9fb6caf2-ad05-458a-b8f9-553f6f703ea2",
   "metadata": {},
   "outputs": [
    {
     "name": "stdout",
     "output_type": "stream",
     "text": [
      "1\n",
      "2\n",
      "3\n",
      "4\n"
     ]
    }
   ],
   "source": [
    "for number in range(1, 11):\n",
    "    if number == 5:\n",
    "        break  # Exit the loop when number is 5\n",
    "    print(number)\n"
   ]
  },
  {
   "cell_type": "code",
   "execution_count": null,
   "id": "125929bc-870c-438b-9806-4b2562d48057",
   "metadata": {},
   "outputs": [],
   "source": []
  }
 ],
 "metadata": {
  "kernelspec": {
   "display_name": "Python 3 (ipykernel)",
   "language": "python",
   "name": "python3"
  },
  "language_info": {
   "codemirror_mode": {
    "name": "ipython",
    "version": 3
   },
   "file_extension": ".py",
   "mimetype": "text/x-python",
   "name": "python",
   "nbconvert_exporter": "python",
   "pygments_lexer": "ipython3",
   "version": "3.10.8"
  }
 },
 "nbformat": 4,
 "nbformat_minor": 5
}
